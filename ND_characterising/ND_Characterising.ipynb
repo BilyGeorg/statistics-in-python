{
 "cells": [
  {
   "cell_type": "code",
   "execution_count": 1,
   "metadata": {},
   "outputs": [
    {
     "name": "stderr",
     "output_type": "stream",
     "text": [
      "/Applications/anaconda3/lib/python3.7/importlib/_bootstrap.py:219: RuntimeWarning: numpy.ufunc size changed, may indicate binary incompatibility. Expected 192 from C header, got 216 from PyObject\n",
      "  return f(*args, **kwds)\n"
     ]
    }
   ],
   "source": [
    "import numpy as np\n",
    "import pandas as pd\n",
    "import matplotlib.pyplot as plt"
   ]
  },
  {
   "cell_type": "code",
   "execution_count": 2,
   "metadata": {},
   "outputs": [],
   "source": [
    "%matplotlib notebook"
   ]
  },
  {
   "cell_type": "markdown",
   "metadata": {},
   "source": [
    "### Covariance\n",
    "\n",
    "We've talked about variance (the average square deviation from the mean). Covariance is, as you've guessed, similar. Let's say we have a data vector, $x^a$, which has $i$ points... so $x_i^a$ is the first element of the data vector, from the previous section we'd have that:\n",
    "\n",
    "$$ Var^{a,a} = \\frac{1}{N-1} \\sum_{i=1}^N (x_i^a - \\mu^a)(x_i^a - \\mu^a), $$\n",
    "\n",
    "This should look like the last section, except I've stuck $a$ in a few places. Another way of stating this is that this is covariance of vector $x^a$ with itself. Notice there are two sets of brackets, both use data vector $x^a$. Covariance is what you get when you change one of the letters. Like this:\n",
    "\n",
    "$$ Var^{a,b} = \\frac{1}{N-1} \\sum_{i=1}^N (x_i^a - \\mu^a)(x_i^b - \\mu^b), $$\n",
    "\n",
    "Easy! All we've done is now one set in the brackets iterates over a different data vector. The goal is to do this for each different vector you have to form a matrix. If we had only two vectors, our matrix is this:\n",
    "\n",
    "$$ Cov = \\begin{pmatrix} Var^{a,a} & Var^{a,b} \\\\ Var^{b,a} & Var^{b,b} \\\\ \\end{pmatrix} $$\n",
    "\n",
    "Notice how this is symmetric. $Var^{a,b} = Var^{b,a}$. And the diagonals are just the variance for each data vector. The off-diagonals are measure of the joint spread between the two. If the concept still isn't perfect, don't worry, the examples will clear everything up.\n",
    "\n",
    "We can calculate the covariance using either `np.cov` ([doco here](https://docs.scipy.org/doc/numpy/reference/generated/numpy.cov.html)) or `pd.DataFrame.cov` ([doco here](https://pandas.pydata.org/pandas-docs/stable/reference/api/pandas.DataFrame.cov.html))."
   ]
  },
  {
   "cell_type": "code",
   "execution_count": 4,
   "metadata": {},
   "outputs": [
    {
     "data": {
      "text/html": [
       "<div>\n",
       "<style scoped>\n",
       "    .dataframe tbody tr th:only-of-type {\n",
       "        vertical-align: middle;\n",
       "    }\n",
       "\n",
       "    .dataframe tbody tr th {\n",
       "        vertical-align: top;\n",
       "    }\n",
       "\n",
       "    .dataframe thead th {\n",
       "        text-align: right;\n",
       "    }\n",
       "</style>\n",
       "<table border=\"1\" class=\"dataframe\">\n",
       "  <thead>\n",
       "    <tr style=\"text-align: right;\">\n",
       "      <th></th>\n",
       "      <th>height</th>\n",
       "      <th>weight</th>\n",
       "    </tr>\n",
       "  </thead>\n",
       "  <tbody>\n",
       "    <tr>\n",
       "      <th>0</th>\n",
       "      <td>71.74</td>\n",
       "      <td>259.88</td>\n",
       "    </tr>\n",
       "    <tr>\n",
       "      <th>1</th>\n",
       "      <td>71.00</td>\n",
       "      <td>186.73</td>\n",
       "    </tr>\n",
       "    <tr>\n",
       "      <th>2</th>\n",
       "      <td>63.83</td>\n",
       "      <td>172.17</td>\n",
       "    </tr>\n",
       "    <tr>\n",
       "      <th>3</th>\n",
       "      <td>67.74</td>\n",
       "      <td>174.66</td>\n",
       "    </tr>\n",
       "    <tr>\n",
       "      <th>4</th>\n",
       "      <td>67.28</td>\n",
       "      <td>169.20</td>\n",
       "    </tr>\n",
       "  </tbody>\n",
       "</table>\n",
       "</div>"
      ],
      "text/plain": [
       "   height  weight\n",
       "0   71.74  259.88\n",
       "1   71.00  186.73\n",
       "2   63.83  172.17\n",
       "3   67.74  174.66\n",
       "4   67.28  169.20"
      ]
     },
     "execution_count": 4,
     "metadata": {},
     "output_type": "execute_result"
    }
   ],
   "source": [
    "data = pd.read_csv(\"height_weight.csv\")[[\"height\", \"weight\"]]\n",
    "data.head()"
   ]
  },
  {
   "cell_type": "code",
   "execution_count": 7,
   "metadata": {},
   "outputs": [
    {
     "name": "stdout",
     "output_type": "stream",
     "text": [
      "[[17698.3298  10886.7211  10191.5438  ...  9768.2288   6992.2231\n",
      "   4852.1306 ]\n",
      " [10886.7211   6696.71645  6269.0941  ...  6008.7016   4301.10545\n",
      "   2984.6767 ]\n",
      " [10191.5438   6269.0941   5868.7778  ...  5625.0128   4026.4561\n",
      "   2794.0886 ]\n",
      " ...\n",
      " [ 9768.2288   6008.7016   5625.0128  ...  5391.3728   3859.2136\n",
      "   2678.0336 ]\n",
      " [ 6992.2231   4301.10545  4026.4561  ...  3859.2136   2762.47445\n",
      "   1916.9707 ]\n",
      " [ 4852.1306   2984.6767   2794.0886  ...  2678.0336   1916.9707\n",
      "   1330.2482 ]]\n"
     ]
    }
   ],
   "source": [
    "covariance = np.cov(data.T) # or rowvar=False\n",
    "print(covariance)"
   ]
  },
  {
   "cell_type": "code",
   "execution_count": 8,
   "metadata": {},
   "outputs": [
    {
     "data": {
      "text/html": [
       "<div>\n",
       "<style scoped>\n",
       "    .dataframe tbody tr th:only-of-type {\n",
       "        vertical-align: middle;\n",
       "    }\n",
       "\n",
       "    .dataframe tbody tr th {\n",
       "        vertical-align: top;\n",
       "    }\n",
       "\n",
       "    .dataframe thead th {\n",
       "        text-align: right;\n",
       "    }\n",
       "</style>\n",
       "<table border=\"1\" class=\"dataframe\">\n",
       "  <thead>\n",
       "    <tr style=\"text-align: right;\">\n",
       "      <th></th>\n",
       "      <th>height</th>\n",
       "      <th>weight</th>\n",
       "    </tr>\n",
       "  </thead>\n",
       "  <tbody>\n",
       "    <tr>\n",
       "      <th>height</th>\n",
       "      <td>18.602008</td>\n",
       "      <td>78.502181</td>\n",
       "    </tr>\n",
       "    <tr>\n",
       "      <th>weight</th>\n",
       "      <td>78.502181</td>\n",
       "      <td>1512.912088</td>\n",
       "    </tr>\n",
       "  </tbody>\n",
       "</table>\n",
       "</div>"
      ],
      "text/plain": [
       "           height       weight\n",
       "height  18.602008    78.502181\n",
       "weight  78.502181  1512.912088"
      ]
     },
     "execution_count": 8,
     "metadata": {},
     "output_type": "execute_result"
    }
   ],
   "source": [
    "covariance = data.cov()\n",
    "covariance"
   ]
  },
  {
   "cell_type": "markdown",
   "metadata": {},
   "source": [
    "### Correlation\n",
    "\n",
    "Correlation and covariance are easily linked. If we take that 2D covariance matrix from above, which is written in terms of variance, we can rewrite it in terms of standard deviation $\\sigma$, as $Var = \\sigma^2$.\n",
    "\n",
    "$$ Cov = \\begin{pmatrix} \\sigma^2_{a,a} & \\sigma^2_{a,b} \\\\ \\sigma^2_{b,a} & \\sigma^2_{b,b} \\\\ \\end{pmatrix} $$\n",
    "\n",
    "Great. And here is the correlation matrix:\n",
    "\n",
    "$$ Corr = \\begin{pmatrix} \\sigma^2_{a,a}/\\sigma^2_{a,a} & \\sigma^2_{a,b}/(\\sigma_{a,a}\\sigma_{b,b}) \\\\ \\sigma^2_{b,a}/(\\sigma_{a,a}\\sigma_{b,b}) & \\sigma^2_{b,b}/\\sigma^2_{b,b} \\\\ \\end{pmatrix} $$\n",
    "\n",
    "Which is the same as\n",
    "\n",
    "$$ Corr = \\begin{pmatrix} 1 & \\rho_{a,b} \\\\ \\rho_{b,a} & 1 \\\\ \\end{pmatrix}, $$\n",
    "\n",
    "where $\\rho_{a,b} = \\sigma^2_{a,b}/(\\sigma_{a,a}\\sigma_{b,b})$. Another way to think about this is that \n",
    "\n",
    "$$ Corr_{a,b} = \\frac{Cov_{a,b}}{\\sigma_a \\sigma_b} $$\n",
    "\n",
    "It is the joint variability normalised by the variability of each independent variable.\n",
    "\n",
    "But this is *still too mathy for me*. Let's just go back to the code. We can calculate a correlation matrix using `np.corrcoef` ([doco here](https://docs.scipy.org/doc/numpy/reference/generated/numpy.corrcoef.html)) or `pd.DataFrame.corr` ([doco here](https://pandas.pydata.org/pandas-docs/stable/reference/api/pandas.DataFrame.corr.html))"
   ]
  },
  {
   "cell_type": "code",
   "execution_count": 10,
   "metadata": {},
   "outputs": [
    {
     "data": {
      "text/plain": [
       "array([[1.        , 0.46794517],\n",
       "       [0.46794517, 1.        ]])"
      ]
     },
     "execution_count": 10,
     "metadata": {},
     "output_type": "execute_result"
    }
   ],
   "source": [
    "corr = np.corrcoef(data.T)\n",
    "corr"
   ]
  },
  {
   "cell_type": "code",
   "execution_count": 11,
   "metadata": {},
   "outputs": [
    {
     "data": {
      "text/html": [
       "<div>\n",
       "<style scoped>\n",
       "    .dataframe tbody tr th:only-of-type {\n",
       "        vertical-align: middle;\n",
       "    }\n",
       "\n",
       "    .dataframe tbody tr th {\n",
       "        vertical-align: top;\n",
       "    }\n",
       "\n",
       "    .dataframe thead th {\n",
       "        text-align: right;\n",
       "    }\n",
       "</style>\n",
       "<table border=\"1\" class=\"dataframe\">\n",
       "  <thead>\n",
       "    <tr style=\"text-align: right;\">\n",
       "      <th></th>\n",
       "      <th>height</th>\n",
       "      <th>weight</th>\n",
       "    </tr>\n",
       "  </thead>\n",
       "  <tbody>\n",
       "    <tr>\n",
       "      <th>height</th>\n",
       "      <td>1.000000</td>\n",
       "      <td>0.467945</td>\n",
       "    </tr>\n",
       "    <tr>\n",
       "      <th>weight</th>\n",
       "      <td>0.467945</td>\n",
       "      <td>1.000000</td>\n",
       "    </tr>\n",
       "  </tbody>\n",
       "</table>\n",
       "</div>"
      ],
      "text/plain": [
       "          height    weight\n",
       "height  1.000000  0.467945\n",
       "weight  0.467945  1.000000"
      ]
     },
     "execution_count": 11,
     "metadata": {},
     "output_type": "execute_result"
    }
   ],
   "source": [
    "corr = data.corr()\n",
    "corr"
   ]
  },
  {
   "cell_type": "markdown",
   "metadata": {},
   "source": [
    "So, what does this mean? In as simple as I can put it, the fact we have a positive number for the height-weight correlation means that, *on average*, a taller person probably weights more (than a shorter person). A shorter person, *on average* probably weighs less than a tall person.\n",
    "\n",
    "If the number was negative, it would mean the opposite - a tall person would normally weigh less than a short person. One is as far as you can get, and if our $0.468$ was $1$, it would mean that a tall person would *always* weight more than a short person. The bigger the number (in absolute terms), the more likely you are to find that correlation.\n",
    "\n",
    "Here are some other examples:\n",
    "\n",
    "* **Age vs number of pregnancies**: Positive correlation\n",
    "* **Temperature in Celcius vs Temperature in Kelvin**: Total positive correlation ($1.0$)\n",
    "* **Amount of cigarettes smoked vs Life expectance**: Negative correlation\n",
    "* **Height vs Comfort on plane seats**: Negative correlation\n",
    "* **Number of units purchased vs Cost of individual unit**: Hopefully a negative correlation!\n",
    "\n",
    "Take two things and ask yourself, if one goes up, do I expect the other to go, down or not change? \n",
    "\n",
    "That is correlation. And now you can quantify it.\n",
    "\n",
    "And, given we did this in the EDA section, you can also make plots of it and explore it visually."
   ]
  },
  {
   "cell_type": "code",
   "execution_count": null,
   "metadata": {},
   "outputs": [],
   "source": []
  }
 ],
 "metadata": {
  "kernelspec": {
   "display_name": "Python 3",
   "language": "python",
   "name": "python3"
  },
  "language_info": {
   "codemirror_mode": {
    "name": "ipython",
    "version": 3
   },
   "file_extension": ".py",
   "mimetype": "text/x-python",
   "name": "python",
   "nbconvert_exporter": "python",
   "pygments_lexer": "ipython3",
   "version": "3.7.4"
  }
 },
 "nbformat": 4,
 "nbformat_minor": 4
}
